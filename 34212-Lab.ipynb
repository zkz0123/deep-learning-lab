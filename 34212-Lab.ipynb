{
 "cells": [
  {
   "cell_type": "code",
   "execution_count": null,
   "id": "d673ee8e-e2aa-4d8e-a108-76cda5ea107d",
   "metadata": {},
   "outputs": [],
   "source": [
    "import os\n",
    "import time\n",
    "import copy\n",
    "import torch\n",
    "from torchvision.models import resnet18, ResNet18_Weights\n",
    "import torch.nn as nn\n",
    "import torch.optim as optim\n",
    "import numpy as np\n",
    "import matplotlib.pyplot as plt\n",
    "from torch.utils.data import DataLoader, random_split\n",
    "from torchvision import datasets, transforms, models\n",
    "from sklearn.metrics import confusion_matrix, ConfusionMatrixDisplay\n",
    "from sklearn.metrics import classification_report\n",
    "from sklearn.model_selection import train_test_split\n",
    "from PIL import Image\n"
   ]
  },
  {
   "cell_type": "markdown",
   "id": "c4e53a5a-6628-4a0e-a849-6a22ec3a64dd",
   "metadata": {},
   "source": [
    "### Set parameters"
   ]
  },
  {
   "cell_type": "code",
   "execution_count": null,
   "id": "2f82a961-9167-4d41-83b5-0ee84c876a19",
   "metadata": {},
   "outputs": [],
   "source": [
    "data_root = r\"E:/iCloudDrive/UoM/Y3/34212robotics/cw/dataset1\"\n",
    "\n",
    "# Hyperparameters\n",
    "num_epochs = 15\n",
    "batch_size = 32\n",
    "learning_rate = 1e-4\n",
    "train_ratio = 0.7\n",
    "val_ratio = 0.2\n",
    "patience = 4\n",
    "\n",
    "# Device setup\n",
    "device = torch.device(\"cuda\" if torch.cuda.is_available() else \"cpu\")\n",
    "print(f\"Using device: {device}\")\n",
    "\n",
    "# Set random seed for reproducibility\n",
    "torch.manual_seed(42)\n",
    "\n",
    "save_dir = f\"results/1\"\n",
    "os.makedirs(save_dir, exist_ok=True)"
   ]
  },
  {
   "cell_type": "markdown",
   "id": "739ee593-d151-4244-bad4-1b3abb956d0d",
   "metadata": {},
   "source": [
    "### Data preprocessing & dataset splitting"
   ]
  },
  {
   "cell_type": "code",
   "execution_count": null,
   "id": "d8418c2b-0bed-42ef-bf09-339913109d93",
   "metadata": {},
   "outputs": [],
   "source": [
    "# Training data augmentation: random crop to 224x224, horizontal flip\n",
    "train_transform = transforms.Compose([\n",
    "    transforms.RandomCrop(224),\n",
    "    transforms.ToTensor(),\n",
    "    transforms.Normalize([0.485, 0.456, 0.406],\n",
    "                         [0.229, 0.224, 0.225])\n",
    "])\n",
    "\n",
    "# Validation and test transforms: center crop to 224x224\n",
    "val_test_transform = transforms.Compose([\n",
    "    transforms.CenterCrop(224),\n",
    "    transforms.ToTensor(),\n",
    "    transforms.Normalize([0.485, 0.456, 0.406],\n",
    "                         [0.229, 0.224, 0.225])\n",
    "])\n",
    "\n",
    "# Load base dataset without transform for splitting\n",
    "base_dataset = datasets.ImageFolder(root=data_root)\n",
    "dataset_size = len(base_dataset)\n",
    "train_size = int(train_ratio * dataset_size)\n",
    "val_size = int(val_ratio * dataset_size)\n",
    "test_size = dataset_size - train_size - val_size\n",
    "\n",
    "# Split dataset\n",
    "train_subset, val_subset, test_subset = random_split(\n",
    "    base_dataset, [train_size, val_size, test_size]\n",
    ")\n",
    "\n",
    "# Apply transforms\n",
    "def apply_transform(subset, transform):\n",
    "    subset.dataset.transform = transform\n",
    "    return subset\n",
    "\n",
    "train_subset = apply_transform(train_subset, train_transform)\n",
    "val_subset = apply_transform(val_subset, val_test_transform)\n",
    "test_subset = apply_transform(test_subset, val_test_transform)\n",
    "\n",
    "# Create DataLoaders\n",
    "train_loader = DataLoader(train_subset, batch_size=batch_size, shuffle=True, num_workers=4)\n",
    "val_loader = DataLoader(val_subset, batch_size=batch_size, shuffle=False, num_workers=4)\n",
    "test_loader = DataLoader(test_subset, batch_size=batch_size, shuffle=False, num_workers=4)\n",
    "\n",
    "# Dataset info\n",
    "class_names = base_dataset.classes\n",
    "num_classes = len(class_names)\n",
    "print(f\"Total images: {dataset_size}\")\n",
    "print(f\"Train/Val/Test sizes: {train_size}/{val_size}/{test_size}\")\n",
    "print(f\"Classes: {class_names}\")"
   ]
  },
  {
   "cell_type": "code",
   "execution_count": null,
   "id": "fec8e781-67f2-4f4f-a754-7243af959ad3",
   "metadata": {},
   "outputs": [],
   "source": [
    "# # Load a raw sample image\n",
    "# raw_img_path, raw_label = base_dataset.samples[571]\n",
    "# raw_img = Image.open(raw_img_path).convert(\"RGB\")\n",
    "\n",
    "# # Apply transforms\n",
    "# train_img_transformed = train_transform(raw_img)\n",
    "# val_img_transformed = val_test_transform(raw_img)\n",
    "\n",
    "# # Function to display a normalized tensor image (for visualization)\n",
    "# def imshow(tensor, title):\n",
    "#     img = tensor.clone().detach().cpu().numpy()\n",
    "#     img = img.transpose(1, 2, 0)\n",
    "#     mean = np.array([0.485, 0.456, 0.406])\n",
    "#     std  = np.array([0.229, 0.224, 0.225])\n",
    "#     img = std * img + mean  # Denormalize\n",
    "#     img = np.clip(img, 0, 1)\n",
    "#     plt.imshow(img)\n",
    "#     plt.title(title)\n",
    "#     plt.axis('off')\n",
    "\n",
    "# # Plot original and transformed versions\n",
    "# plt.figure(figsize=(12, 4))\n",
    "# plt.subplot(1, 3, 1)\n",
    "# plt.imshow(raw_img)\n",
    "# plt.title(\"Original Image\")\n",
    "# plt.axis('off')\n",
    "\n",
    "# plt.subplot(1, 3, 2)\n",
    "# imshow(train_img_transformed, \"Train Transform (RandomCrop)\")\n",
    "\n",
    "# plt.subplot(1, 3, 3)\n",
    "# imshow(val_img_transformed, \"Val/Test Transform (CenterCrop)\")\n",
    "# plt.tight_layout()\n",
    "# plt.show()"
   ]
  },
  {
   "cell_type": "markdown",
   "id": "ea94f69e-7c60-41f7-851f-70881e3cf14a",
   "metadata": {},
   "source": [
    "### Build ResNet18 model"
   ]
  },
  {
   "cell_type": "code",
   "execution_count": null,
   "id": "d2302c2f-3e10-48b7-abd2-7d43983231d3",
   "metadata": {},
   "outputs": [],
   "source": [
    "model = resnet18(weights=ResNet18_Weights.DEFAULT)\n",
    "\n",
    "num_ftrs = model.fc.in_features\n",
    "model.fc = nn.Linear(num_ftrs, num_classes)\n",
    "model = model.to(device)\n",
    "\n",
    "criterion = nn.CrossEntropyLoss()\n",
    "\n",
    "optimizer = optim.Adam(model.parameters(), lr=learning_rate, weight_decay=1e-4)\n",
    "# optimizer = optim.SGD(model.parameters(), lr=learning_rate, momentum=0.9)\n"
   ]
  },
  {
   "cell_type": "markdown",
   "id": "3f204b35-4640-400a-9c5d-d986d4519ad1",
   "metadata": {},
   "source": [
    "### Training"
   ]
  },
  {
   "cell_type": "code",
   "execution_count": null,
   "id": "e2c1c4aa-a4d9-4f3d-ba5a-0c117bc69df3",
   "metadata": {},
   "outputs": [],
   "source": [
    "def train_model(model, train_loader, val_loader, criterion, optimizer, num_epochs=50, patience=5):\n",
    "    best_model_wts = copy.deepcopy(model.state_dict())\n",
    "    best_acc = 0.0\n",
    "    best_val_loss = float('inf')\n",
    "    early_stop_counter = 0\n",
    "\n",
    "    train_loss_history = []\n",
    "    val_loss_history = []\n",
    "    train_acc_history = []\n",
    "    val_acc_history = []\n",
    "\n",
    "    since = time.time()\n",
    "    for epoch in range(num_epochs):\n",
    "        print(f\"\\nEpoch {epoch+1}/{num_epochs}\")\n",
    "\n",
    "        for phase in [\"train\", \"val\"]:\n",
    "            if phase == \"train\":\n",
    "                model.train()\n",
    "                dataloader = train_loader\n",
    "            else:\n",
    "                model.eval()\n",
    "                dataloader = val_loader\n",
    "\n",
    "            running_loss = 0.0\n",
    "            running_corrects = 0\n",
    "\n",
    "            for inputs, labels in dataloader:\n",
    "                inputs = inputs.to(device)\n",
    "                labels = labels.to(device)\n",
    "\n",
    "                optimizer.zero_grad()\n",
    "\n",
    "                with torch.set_grad_enabled(phase == \"train\"):\n",
    "                    outputs = model(inputs)\n",
    "                    loss = criterion(outputs, labels)\n",
    "                    _, preds = torch.max(outputs, 1)\n",
    "\n",
    "                    if phase == \"train\":\n",
    "                        loss.backward()\n",
    "                        optimizer.step()\n",
    "\n",
    "                running_loss += loss.item() * inputs.size(0)\n",
    "                running_corrects += torch.sum(preds == labels.data)\n",
    "\n",
    "            epoch_loss = running_loss / len(dataloader.dataset)\n",
    "            epoch_acc = running_corrects.double() / len(dataloader.dataset)\n",
    "\n",
    "            if phase == \"train\":\n",
    "                train_loss_history.append(epoch_loss)\n",
    "                train_acc_history.append(epoch_acc.item())\n",
    "            else:\n",
    "                val_loss_history.append(epoch_loss)\n",
    "                val_acc_history.append(epoch_acc.item())\n",
    "\n",
    "                if epoch_loss < best_val_loss:\n",
    "                    best_val_loss = epoch_loss\n",
    "                    best_acc = epoch_acc\n",
    "                    best_model_wts = copy.deepcopy(model.state_dict())\n",
    "                    early_stop_counter = 0\n",
    "                else:\n",
    "                    early_stop_counter += 1\n",
    "\n",
    "            print(f\"{phase.capitalize()} Loss: {epoch_loss:.4f} Acc: {epoch_acc:.4f}\")\n",
    "\n",
    "        if early_stop_counter >= patience:\n",
    "            print(\"Early stopping triggered!\")\n",
    "            break\n",
    "\n",
    "    time_elapsed = time.time() - since\n",
    "    print(f\"\\nTraining complete in {int(time_elapsed//60)}m {int(time_elapsed % 60)}s\")\n",
    "    print(f\"Best val Acc: {best_acc:.4f}\")\n",
    "\n",
    "    model.load_state_dict(best_model_wts)\n",
    "    return model, (train_loss_history, val_loss_history, train_acc_history, val_acc_history)\n"
   ]
  },
  {
   "cell_type": "code",
   "execution_count": null,
   "id": "68a336a4-ea28-40f3-8d4d-7774d5f17400",
   "metadata": {},
   "outputs": [],
   "source": [
    "best_model, history = train_model(model, train_loader, val_loader, criterion, optimizer, num_epochs, patience)\n",
    "train_loss_history, val_loss_history, train_acc_history, val_acc_history = history\n"
   ]
  },
  {
   "cell_type": "markdown",
   "id": "7bdc931a-2152-4240-b988-ffe926ec04f2",
   "metadata": {},
   "source": [
    "### Evaluate on test set"
   ]
  },
  {
   "cell_type": "code",
   "execution_count": null,
   "id": "3090a575-89ac-42fa-a495-bec7c59dc16c",
   "metadata": {},
   "outputs": [],
   "source": [
    "def evaluate_model(model, test_loader, criterion):\n",
    "    model.eval()\n",
    "    running_loss = 0.0\n",
    "    running_corrects = 0\n",
    "    all_preds = []\n",
    "    all_labels = []\n",
    "\n",
    "    with torch.no_grad():\n",
    "        for inputs, labels in test_loader:\n",
    "            inputs = inputs.to(device)\n",
    "            labels = labels.to(device)\n",
    "\n",
    "            outputs = model(inputs)\n",
    "            loss = criterion(outputs, labels)\n",
    "            _, preds = torch.max(outputs, 1)\n",
    "\n",
    "            running_loss += loss.item() * inputs.size(0)\n",
    "            running_corrects += torch.sum(preds == labels.data)\n",
    "\n",
    "            all_preds.extend(preds.cpu().numpy())\n",
    "            all_labels.extend(labels.cpu().numpy())\n",
    "\n",
    "    test_loss = running_loss / len(test_loader.dataset)\n",
    "    test_acc = running_corrects.double() / len(test_loader.dataset)\n",
    "    return test_loss, test_acc, all_preds, all_labels\n",
    "\n",
    "test_loss, test_acc, all_preds, all_labels = evaluate_model(best_model, test_loader, criterion)\n",
    "print(f\"Test Loss: {test_loss:.4f}, Test Accuracy: {test_acc:.4f}\")"
   ]
  },
  {
   "cell_type": "markdown",
   "id": "aa5b3c84-564a-4c07-9651-02e746b96a3a",
   "metadata": {},
   "source": [
    "### Confusion Matrix on Test Set"
   ]
  },
  {
   "cell_type": "code",
   "execution_count": null,
   "id": "0394f370-9719-40db-92cd-8304e5ef8349",
   "metadata": {},
   "outputs": [],
   "source": [
    "cm = confusion_matrix(all_labels, all_preds)\n",
    "disp = ConfusionMatrixDisplay(confusion_matrix=cm, display_labels=class_names)\n",
    "plt.figure(figsize=(10, 10))\n",
    "disp.plot(cmap=plt.cm.Blues, values_format='d')\n",
    "plt.title(\"Confusion Matrix\")\n",
    "plt.xticks(rotation=90)\n",
    "plt.tight_layout() \n",
    "plt.savefig(os.path.join(save_dir, \"confusion_matrix.png\"), dpi=300)\n",
    "plt.show()\n"
   ]
  },
  {
   "cell_type": "code",
   "execution_count": null,
   "id": "2a5fb853-3d72-4b0e-9959-a0e555d5101b",
   "metadata": {},
   "outputs": [],
   "source": [
    "report = classification_report(all_labels, all_preds, target_names=class_names, digits=4)\n",
    "report_path = os.path.join(save_dir, \"classification_report.txt\")\n",
    "with open(report_path, \"w\") as f:\n",
    "    f.write(report)\n",
    "print(\"Classification Report:\\n\")\n",
    "print(report)\n"
   ]
  },
  {
   "cell_type": "markdown",
   "id": "e98ce997-2a1e-44bf-b758-e178d879706a",
   "metadata": {},
   "source": [
    "### Plot Training Curves"
   ]
  },
  {
   "cell_type": "code",
   "execution_count": null,
   "id": "c2c64abe-dc71-4517-b70d-02b0b5ae1af1",
   "metadata": {},
   "outputs": [],
   "source": [
    "epochs_range = range(1, len(train_loss_history) + 1)\n",
    "\n",
    "plt.figure(figsize=(6, 5))\n",
    "plt.plot(epochs_range, train_loss_history, label=\"Train Loss\")\n",
    "plt.plot(epochs_range, val_loss_history, label=\"Val Loss\")\n",
    "plt.title(\"Loss Curve\")\n",
    "plt.xlabel(\"Epoch\")\n",
    "plt.ylabel(\"Loss\")\n",
    "plt.legend()\n",
    "plt.tight_layout()\n",
    "plt.savefig(os.path.join(save_dir, \"loss_curve.png\"), dpi=300)\n",
    "plt.show()\n",
    "\n",
    "plt.figure(figsize=(6, 5))\n",
    "plt.plot(epochs_range, train_acc_history, label=\"Train Acc\")\n",
    "plt.plot(epochs_range, val_acc_history, label=\"Val Acc\")\n",
    "plt.title(\"Accuracy Curve\")\n",
    "plt.xlabel(\"Epoch\")\n",
    "plt.ylabel(\"Accuracy\")\n",
    "plt.legend()\n",
    "plt.tight_layout()\n",
    "plt.savefig(os.path.join(save_dir, \"accuracy_curve.png\"), dpi=300)\n",
    "plt.show()"
   ]
  },
  {
   "cell_type": "markdown",
   "id": "754314b0-a3b1-479b-bcf1-893232f5ca0e",
   "metadata": {},
   "source": [
    "### Save the Best Model"
   ]
  },
  {
   "cell_type": "code",
   "execution_count": null,
   "id": "c83b5f9c-771a-4835-81f9-8fe36d3aff90",
   "metadata": {},
   "outputs": [],
   "source": [
    "model_save_path = \"./models/best_model.pth\"\n",
    "torch.save(best_model.state_dict(), model_save_path)\n",
    "print(f\"Best model saved to {model_save_path}\")"
   ]
  },
  {
   "cell_type": "code",
   "execution_count": null,
   "id": "55d0ba9f-64e1-46b5-8b26-5718b376d196",
   "metadata": {},
   "outputs": [],
   "source": []
  }
 ],
 "metadata": {
  "kernelspec": {
   "display_name": "Python 3 (ipykernel)",
   "language": "python",
   "name": "python3"
  },
  "language_info": {
   "codemirror_mode": {
    "name": "ipython",
    "version": 3
   },
   "file_extension": ".py",
   "mimetype": "text/x-python",
   "name": "python",
   "nbconvert_exporter": "python",
   "pygments_lexer": "ipython3",
   "version": "3.11.9"
  }
 },
 "nbformat": 4,
 "nbformat_minor": 5
}
